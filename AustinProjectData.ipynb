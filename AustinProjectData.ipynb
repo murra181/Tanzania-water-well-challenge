{
 "cells": [
  {
   "cell_type": "markdown",
   "metadata": {},
   "source": [
    "## Microsoft Original Content Recommendations\n",
    "\n",
    "Please fill out:\n",
    "* Student name: Austin Murray\n",
    "* Student pace: full time\n",
    "* Scheduled project review date/time: \n",
    "* Instructor name: Yish\n",
    "* Blog post URL:\n"
   ]
  },
  {
   "cell_type": "markdown",
   "metadata": {},
   "source": [
    "## Overview\n",
    "Microsoft has created its own studio to make original movies. We are analyzing english movies from the last five years to give a recommendation to microsoft on what choices to make for runtime, genre, filmming locations, and when to release the movie. These are important to give as this will give them the where when and what about to create a profitable movie based on what current movie goers want to see. "
   ]
  },
  {
   "cell_type": "markdown",
   "metadata": {},
   "source": [
    "## The Data\n",
    "The data being used in this analysis is coming from:\n",
    "IMDB\n",
    "TMDB\n",
    "Rotten tomatoes\n",
    "\n",
    "These are the biggest movie rating and information databases on the internet.\n",
    "We will be anaylizing the last five years of englishing speaking movies with at least 100 votes and under 350 minutes of runtime.\n",
    "Variables we will be looking for are profit/genre, profit/month, rating/genre rating/runtime, numvotes/runtime."
   ]
  },
  {
   "cell_type": "markdown",
   "metadata": {},
   "source": [
    "Importing all the tools"
   ]
  },
  {
   "cell_type": "code",
   "execution_count": 2,
   "metadata": {},
   "outputs": [],
   "source": [
    "import pandas as pd\n",
    "import numpy as np\n",
    "import matplotlib.pyplot as plt\n",
    "%matplotlib inline\n",
    "import json\n",
    "from datetime import date\n",
    "from datetime import datetime\n",
    "from dateutil.relativedelta import relativedelta\n",
    "import time"
   ]
  }
 ],
 "metadata": {
  "kernelspec": {
   "display_name": "Python 3",
   "language": "python",
   "name": "python3"
  },
  "language_info": {
   "codemirror_mode": {
    "name": "ipython",
    "version": 3
   },
   "file_extension": ".py",
   "mimetype": "text/x-python",
   "name": "python",
   "nbconvert_exporter": "python",
   "pygments_lexer": "ipython3",
   "version": "3.6.9"
  }
 },
 "nbformat": 4,
 "nbformat_minor": 2
}
